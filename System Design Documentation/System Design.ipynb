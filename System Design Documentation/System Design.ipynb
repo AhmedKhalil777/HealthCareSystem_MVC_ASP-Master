{
 "cells": [
  {
   "cell_type": "markdown",
   "metadata": {},
   "source": [
    "# In The Name Of ALLAH\n",
    "\n",
    "## System Design Documentation (DR Samir Abd El Razik)\n",
    "---\n",
    " \n",
    "## Some OF Analysis\n",
    " \n",
    " - ![](../PIC/1.jpeg)\n",
    " - ![](../PIC/2.jpg)\n",
    " - ![](../PIC/3.jpg)\n",
    " - ![](../PIC/4.jpeg)\n",
    " \n",
    "---\n"
   ]
  },
  {
   "attachments": {},
   "cell_type": "markdown",
   "metadata": {},
   "source": [
    "## Functional & Non Functional Requirments\n",
    " \n",
    " - ![](../PIC/17.PNG)\n",
    " - ![](../PIC/18.PNG)\n",
    " - ![](../PIC/19.PNG)\n",
    " - ![](../PIC/20.PNG)"
   ]
  },
  {
   "cell_type": "markdown",
   "metadata": {},
   "source": [
    "## Our DataBase Model \n",
    " \n",
    " - ![]( ../PIC/15.PNG )\n"
    
   ]
  },
  {
   "cell_type": "markdown",
   "metadata": {},
   "source": [
    "##  Pages \n",
    " - ![](../PIC/1.PNG)\n",
    " - ![](../PIC/2.PNG)\n",
    " - ![](../PIC/3.PNG)\n",
    " - ![](../PIC/4.PNG)\n",
    " - ![](../PIC/5.PNG)"
   ]
  }
 ],
 "metadata": {
  "kernelspec": {
   "display_name": "Python 3",
   "language": "python",
   "name": "python3"
  },
  "language_info": {
   "codemirror_mode": {
    "name": "ipython",
    "version": 3
   },
   "file_extension": ".py",
   "mimetype": "text/x-python",
   "name": "python",
   "nbconvert_exporter": "python",
   "pygments_lexer": "ipython3",
   "version": "3.7.3"
  }
 },
 "nbformat": 4,
 "nbformat_minor": 2
}
