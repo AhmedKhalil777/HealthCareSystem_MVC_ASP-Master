{
 "cells": [
  {
   "cell_type": "markdown",
   "metadata": {},
   "source": [
    "# In The Name of ALLAH\n",
    "---\n",
    "## E-Business Documentation (ASP MVC5 ) As SOA \n",
    " - __Admin Application As A service__\n",
    " - __User App As A service__\n",
    " - __Doctor Application As A service__\n",
    " - __Chatting Room Service__\n",
    "---"
   ]
  },
  {
   "cell_type": "markdown",
   "metadata": {},
   "source": [
    "## Our work breakdown structure ( WBS) as The Organizer OF  Both (Study and Work)\n",
    "\n",
    " - ![](../PIC/14.PNG)\n",
    "---\n",
    " "
   ]
  },
  {
   "cell_type": "markdown",
   "metadata": {},
   "source": [
    "## Our DataBase Model \n",
    " \n",
    " - ![](../PIC/15.PNG)\n",
    "---\n",
    " "
   ]
  },
  {
   "cell_type": "markdown",
   "metadata": {},
   "source": [
    "## Admin Application As A service\n",
    " \n",
    " - Fully Crud Operations Over The Data store Need To SELF Manibulating\n",
    " - ![](../PIC/16.PNG)\n",
    " \n",
    " \n",
    " \n",
    " \n"
   ]
  },
  {
   "cell_type": "markdown",
   "metadata": {},
   "source": [
    "## User App as A service\n",
    "\n",
    " - The UI&UX Design To Get Deel With the User Happiness and Consider All His ISSUES as Requirement Analysis tell US and CI\n",
    " - ![](../PIC/1.PNG)\n",
    " - ![](../PIC/2.PNG)\n",
    " - ![](../PIC/3.PNG)\n",
    " \n",
    " \n",
    " "
   ]
  },
  {
   "cell_type": "markdown",
   "metadata": {},
   "source": [
    "## Doctor Application As A service (This Part as The Less Time ,,, We Now Work on It)\n",
    "\n"
   ]
  },
  {
   "cell_type": "markdown",
   "metadata": {},
   "source": [
    "## The Last service Is A chat room with siagnalr \n",
    " \n",
    " - ![](../PIC/4.PNG)\n",
    "\n",
    "### you Can find the Documentation of Chat service in (Enter The Link)\n",
    " - [Read Signalr Chat Document](https://github.com/AhmedKhalil777/HealthCareSystem_MVC_ASP-Master/blob/master/Network%20Programming%20Documentation/ChattingRoom%20Documentation.ipynb)\n"
   ]
  },
  {
   "cell_type": "code",
   "execution_count": null,
   "metadata": {},
   "outputs": [],
   "source": []
  }
 ],
 "metadata": {
  "kernelspec": {
   "display_name": "Python 3",
   "language": "python",
   "name": "python3"
  },
  "language_info": {
   "codemirror_mode": {
    "name": "ipython",
    "version": 3
   },
   "file_extension": ".py",
   "mimetype": "text/x-python",
   "name": "python",
   "nbconvert_exporter": "python",
   "pygments_lexer": "ipython3",
   "version": "3.7.3"
  }
 },
 "nbformat": 4,
 "nbformat_minor": 2
}
