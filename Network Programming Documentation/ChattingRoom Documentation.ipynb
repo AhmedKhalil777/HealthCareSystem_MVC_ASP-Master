{
 "cells": [
  {
   "cell_type": "markdown",
   "metadata": {},
   "source": [
    "# IN The Name of ALLAH\n",
    "---\n",
    "## Network Programming Documentation (Chat Room Using .net SignalR --> __Dr Sarah Shaker__ [](:relaxed:) )\n",
    "\n",
    "---\n",
    "## Our Chat Room Look Like :\n",
    " - ![](../PIC/4.PNG)\n",
    "---"
   ]
  },
  {
   "cell_type": "markdown",
   "metadata": {},
   "source": [
    "## Let's Talk about Designing\n",
    "\n",
    " - ### we use __NPM__ To Attach Signalr package to our Desired site\n",
    "  - ![](../PIC/7.PNG)\n",
    " - ### Using The Jquery To Manage Chat Room ( sending & Recieving ) Messages\n",
    "  - ![](../PIC/8.PNG)"
   ]
  },
  {
   "cell_type": "code",
   "execution_count": null,
   "metadata": {},
   "outputs": [],
   "source": []
  }
 ],
 "metadata": {
  "kernelspec": {
   "display_name": "Python 3",
   "language": "python",
   "name": "python3"
  },
  "language_info": {
   "codemirror_mode": {
    "name": "ipython",
    "version": 3
   },
   "file_extension": ".py",
   "mimetype": "text/x-python",
   "name": "python",
   "nbconvert_exporter": "python",
   "pygments_lexer": "ipython3",
   "version": "3.7.3"
  }
 },
 "nbformat": 4,
 "nbformat_minor": 2
}
